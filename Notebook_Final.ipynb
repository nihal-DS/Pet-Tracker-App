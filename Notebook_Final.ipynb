{
 "cells": [
  {
   "cell_type": "code",
   "execution_count": 5,
   "id": "7696325c-f6b6-4fea-9905-127cdadda1c6",
   "metadata": {
    "tags": []
   },
   "outputs": [],
   "source": [
    "import sys\n",
    "from datetime import datetime\n",
    "import pickle\n",
    "import numpy as np\n",
    "import pandas as pd\n",
    "from collections import defaultdict"
   ]
  },
  {
   "cell_type": "markdown",
   "id": "86d118d3-7309-4abf-a8d1-947770057001",
   "metadata": {
    "tags": []
   },
   "source": [
    "## Outline\n",
    "Pet Inventory App\n",
    "- `App prompts:`\n",
    "    - Add a new pet\n",
    "    - Compute and print current weight of all pets in the system\n",
    "    - Print all pet information for every pet in the system  \n",
    "    - Print owner information and pet names for all owners with more than one pet\n",
    "    - Exit the application\n",
    "- `Owner class attributes:`\n",
    "    - Owner name (str)\n",
    "    - Owner address (str)\n",
    "    Fed as an input to pet class\n",
    "    \n",
    "- `Pet class:`\n",
    "    - Attr:\n",
    "        - Pet name (str)\n",
    "        - DOB (date from datetime)\n",
    "        - Birth weight (float)\n",
    "        - Owner (Owner class)\n",
    "    - Method:\n",
    "        - Compute weight (overwritten by each child class)\n",
    "- `Mammal class (inherits from Pet):`\n",
    "    - Attr:\n",
    "        - Litter Size (int)\n",
    "        - Has Claw (bool)\n",
    "    -  Method:\n",
    "        - Compute weight (Find the number of days since birth. Weight increases by 10% every 60 days for the first 300 days. Weight is constant after that. Assume that the increase occurs on each 60th day only.)\n",
    "- `Fish class (inherits from Pets):`\n",
    "    - Attr:\n",
    "        - Scale condition: 'smooth' or 'rough' (str)\n",
    "        - lenght (float)\n",
    "    -  Method:\n",
    "        - Compute weight (Weight increases by 5% every 80 days for the first 240 days and then stays constant. Assume that the increase occurs on each 80th day only.)\n",
    "- `Amphibian class (inherits from Pet):`\n",
    "    - Attr:\n",
    "        - Number of limbs (int)\n",
    "        - Is Venemous (bool)\n",
    "    -  Method:\n",
    "        - Compute weight (Weight increases by 5% every 120 days for the first 360 days and then increases by 3% every 120 days. Assume that the increase occurs on each 120th day only.)\n",
    "- `Exceptions:`\n",
    "    - Date of birth: Valid Date\n",
    "    - Birth Weight: Positive number\n",
    "    - Litter Size: Positive Integer\n",
    "    - hasClaws: User should enter only 'y' or 'n' in either upper or lower case.\n",
    "    - scaleCondition: User should only enter 's' or 'r' in either upper or lower case\n",
    "    - length: Positive integer\n",
    "    - number of limbs: Positive integer\n",
    "    - isVenomous: User should enter only 'y' or 'n' in either upper or lower case."
   ]
  },
  {
   "cell_type": "markdown",
   "id": "e035cf00-72d4-4167-ab43-b702474a535c",
   "metadata": {},
   "source": [
    "## Defining classes:"
   ]
  },
  {
   "cell_type": "code",
   "execution_count": 6,
   "id": "26d2fbc4-086c-42db-8f7a-85ed480285d7",
   "metadata": {
    "tags": []
   },
   "outputs": [],
   "source": [
    "class Owner:\n",
    "    def __init__(self, owner_name: str, owner_address: str):\n",
    "        self.owner_name = owner_name\n",
    "        self.owner_address = owner_address\n",
    "    \n",
    "    def __str__(self):\n",
    "        return f\"   Owner Name: {self.owner_name}\\n   Owner Address: {self.owner_address}\""
   ]
  },
  {
   "cell_type": "code",
   "execution_count": 7,
   "id": "ac8cab21-b61d-4445-9fac-2ac0887e2473",
   "metadata": {
    "tags": []
   },
   "outputs": [],
   "source": [
    "class Pet:\n",
    "    def __init__(self, pet_name: str, date_of_birth: datetime, birth_weight: float, owner: Owner):\n",
    "        self.pet_name = pet_name\n",
    "        self.date_of_birth = date_of_birth\n",
    "        self.birth_weight = 0.0625 * birth_weight\n",
    "        self.owner = owner\n",
    "        \n",
    "    def compute_weight(self):\n",
    "        pass\n",
    "        \n",
    "    def __str__(self):\n",
    "        date_out = self.date_of_birth.strftime(\"%d-%m-%y\")\n",
    "        pet_return = f\"\\nPet Name: {self.pet_name}\"\n",
    "        pet_return += f\"\\nBirth Date = {date_out}\"\n",
    "        pet_return += f\"\\nWeight at birth = {self.birth_weight}\"\n",
    "        pet_return += f\"\\nOwner details: \\n{self.owner}\"\n",
    "        \n",
    "        return pet_return\n",
    "    "
   ]
  },
  {
   "cell_type": "code",
   "execution_count": 8,
   "id": "ae8e6547-2a06-46e7-a7a5-e9f0d17244bf",
   "metadata": {
    "tags": []
   },
   "outputs": [],
   "source": [
    "class Mammal(Pet):\n",
    "    def __init__(self, pet_name: str, date_of_birth: datetime, birth_weight: float, owner: Owner, litter_size: int, has_claw: str):\n",
    "        super().__init__(pet_name, date_of_birth, birth_weight, owner)\n",
    "        self.litter_size = litter_size\n",
    "        self.has_claw = has_claw\n",
    "        \n",
    "    def compute_weight(self):\n",
    "        days_old = (datetime.now() - self.date_of_birth).days\n",
    "        growth = 60\n",
    "        current_weight = self.birth_weight\n",
    "        while (growth <= 300) and (growth <= days_old):\n",
    "            current_weight += (0.1 * self.birth_weight)\n",
    "            growth += 60\n",
    "        return round(current_weight, 2)\n",
    "    \n",
    "    def __str__(self):\n",
    "        mammal_return = \"----------\\nPet Type: Mammal\"\n",
    "        mammal_return += super().__str__()\n",
    "        mammal_return += f\"\\nLitter Size = {self.litter_size}\"\n",
    "        mammal_return += f\"\\nHas Claw = {self.has_claw}\"\n",
    "        \n",
    "        return mammal_return"
   ]
  },
  {
   "cell_type": "code",
   "execution_count": 9,
   "id": "c041bf83-a88f-46d7-afce-dc71e7116082",
   "metadata": {
    "tags": []
   },
   "outputs": [],
   "source": [
    "class Fish(Pet):\n",
    "    def __init__(self, pet_name: str, date_of_birth: datetime, birth_weight: float, owner: Owner, scale_condition: str, length: float):\n",
    "        super().__init__(pet_name, date_of_birth, birth_weight, owner)\n",
    "        self.scale_condition = scale_condition\n",
    "        self.length = length\n",
    "        \n",
    "    def compute_weight(self):\n",
    "        days_old = (datetime.now() - self.date_of_birth).days\n",
    "        growth = 80\n",
    "        current_weight = self.birth_weight\n",
    "        while (growth <= 240) and (growth <= days_old):\n",
    "            current_weight += (0.05 * self.birth_weight)\n",
    "            growth += 80\n",
    "        return round(current_weight, 2)\n",
    "        \n",
    "    def __str__(self):\n",
    "        fish_return = \"----------\\nPet Type: Fish\"\n",
    "        fish_return += super().__str__()\n",
    "        fish_return += f\"\\nScale Condition = {self.scale_condition}\"\n",
    "        fish_return += f\"\\nLength = {self.length}\"\n",
    "        \n",
    "        return fish_return"
   ]
  },
  {
   "cell_type": "code",
   "execution_count": 10,
   "id": "8dcedfda-bdb5-4572-833b-522fb5d125f2",
   "metadata": {
    "tags": []
   },
   "outputs": [],
   "source": [
    "class Amphibian(Pet):\n",
    "    def __init__(self, pet_name: str, date_of_birth: datetime, birth_weight: float, owner: Owner, number_of_limbs: int, is_venomous: str):\n",
    "        super().__init__(pet_name, date_of_birth, birth_weight, owner)\n",
    "        self.number_of_limbs = number_of_limbs\n",
    "        self.is_venomous = is_venomous\n",
    "        \n",
    "    def compute_weight(self):\n",
    "        days_old = (datetime.now() - self.date_of_birth).days\n",
    "        growth = 120\n",
    "        current_weight = self.birth_weight\n",
    "        while (growth <= 480) and (growth <= days_old):\n",
    "            if growth <= 360:\n",
    "                current_weight += (0.05 * self.birth_weight)\n",
    "            else:\n",
    "                current_weight += (0.03 * self.birth_weight)\n",
    "            growth += 120\n",
    "        return round(current_weight, 2)\n",
    "        \n",
    "    def __str__(self):\n",
    "        amphibian_return = \"----------\\nPet Type: Amphibian\"\n",
    "        amphibian_return += super().__str__()\n",
    "        amphibian_return += f\"\\nNumber Of Limbs = {self.number_of_limbs}\"\n",
    "        amphibian_return += f\"\\nIs Venomous = {self.is_venomous}\"\n",
    "        \n",
    "        return amphibian_return\n",
    "    "
   ]
  },
  {
   "cell_type": "markdown",
   "id": "8bb9e71b-a827-4b9a-9287-c1cf29f43b06",
   "metadata": {},
   "source": [
    "## Defining interface: Pet Tracker Application"
   ]
  },
  {
   "cell_type": "code",
   "execution_count": 11,
   "id": "e93e0008-3bb7-43e6-af73-63724fb2f401",
   "metadata": {
    "tags": []
   },
   "outputs": [],
   "source": [
    "def menu_options():\n",
    "    \n",
    "    pet_list = read_from_file()\n",
    "    pet_count_cursor = len(pet_list)\n",
    "    \n",
    "    run = True\n",
    "    while run:\n",
    "        print(\"---------------------------------\")\n",
    "        print(\"Select an option between 1 and 5: \")\n",
    "        print(\"1. Add a new pet\")\n",
    "        print(\"2. Print current weight of all pets in the system\")\n",
    "        print(\"3. Print all pet information for all pets in the system\")\n",
    "        print(\"4. Information of all owners with more than one pet\")\n",
    "        print(\"5. Exit the application\")\n",
    "        \n",
    "        try:\n",
    "            option = int(input(\"Enter your option: \"))\n",
    "            if (option < 1) or (option > 5):\n",
    "                raise ValueError\n",
    "                \n",
    "        except ValueError:\n",
    "            print(\"ValueError: Plese select an option between 1 & 5\")\n",
    "            \n",
    "        else:\n",
    "            if option == 1:\n",
    "                print(\"Option selected: 1\")\n",
    "                pet_list.append(option_one())\n",
    "                \n",
    "            elif option == 2:\n",
    "                print(\"Option selected: 2\")\n",
    "                option_two(pet_list)\n",
    "                \n",
    "            elif option == 3:\n",
    "                print(\"Option selected: 3\")\n",
    "                option_three(pet_list)\n",
    "                \n",
    "            elif option == 4:\n",
    "                print(\"Option selected: 4\")\n",
    "                option_four(pet_list)\n",
    "                \n",
    "            else:\n",
    "                print(\"Option selected: 5\")\n",
    "                option_five(pet_list, pet_count_cursor)\n",
    "                run = False"
   ]
  },
  {
   "cell_type": "code",
   "execution_count": 12,
   "id": "d8e85f9e-b799-443e-b760-81373f7298a5",
   "metadata": {
    "tags": []
   },
   "outputs": [],
   "source": [
    "def option_one():\n",
    "    \n",
    "    '''\n",
    "    Option 1: Create Pet objects based on the type entered\n",
    "    '''\n",
    "    \n",
    "    run = True\n",
    "    while run:\n",
    "        print(\"-------------\")\n",
    "        print(\"Type of pet: \")\n",
    "        print(\"1. Mammals\")\n",
    "        print(\"2. Fish\")\n",
    "        print(\"3. Amphibians\")\n",
    "        \n",
    "        try:\n",
    "            type_of_pet = int(input(\"Enter value between 1 & 3\"))\n",
    "            if (type_of_pet < 1) or (type_of_pet > 3):\n",
    "                raise ValueError\n",
    "                \n",
    "        except ValueError:\n",
    "            print(\"ValueError: Please enter a value between 1 & 3\")\n",
    "            \n",
    "        else:\n",
    "            \n",
    "            pet_name, date_of_birth, birth_weight = pet_input()\n",
    "            \n",
    "            if type_of_pet == 1:\n",
    "                owner_name, owner_address = owner_input()\n",
    "                owner_inst = Owner(owner_name, owner_address)\n",
    "                litter_size, has_claw = mammal_input()\n",
    "                pet_inst = Mammal(pet_name, date_of_birth, birth_weight, owner_inst, litter_size, has_claw)\n",
    "                \n",
    "            elif type_of_pet == 2:\n",
    "                owner_name, owner_address = owner_input()\n",
    "                owner_inst = Owner(owner_name, owner_address)\n",
    "                scale_condition, length = fish_input()\n",
    "                pet_inst = Fish(pet_name, date_of_birth, birth_weight, owner_inst, scale_condition, length)\n",
    "                \n",
    "            else:\n",
    "                owner_name, owner_address = owner_input()\n",
    "                owner_inst = Owner(owner_name, owner_address)\n",
    "                number_of_limbs, is_venomous = amphibian_input()\n",
    "                pet_inst = Amphibian(pet_name, date_of_birth, birth_weight, owner_inst, number_of_limbs, is_venomous)\n",
    "                \n",
    "            run = False\n",
    "            \n",
    "    return pet_inst"
   ]
  },
  {
   "cell_type": "code",
   "execution_count": 13,
   "id": "231c5f7b-99a9-42f8-8386-fb6c7d1dade1",
   "metadata": {
    "tags": []
   },
   "outputs": [],
   "source": [
    "def option_two(pet_list):\n",
    "    \n",
    "    '''\n",
    "    Option 2: Compute and print current weight of all pets in the system\n",
    "    '''\n",
    "    \n",
    "    for obj in pet_list:\n",
    "        print(f\"{obj.pet_name}'s current weight in pounds is {obj.compute_weight()}\")"
   ]
  },
  {
   "cell_type": "code",
   "execution_count": 14,
   "id": "80b394a3-9318-4084-92fc-e4d8c9a50afb",
   "metadata": {
    "tags": []
   },
   "outputs": [],
   "source": [
    "def option_three(pet_list):\n",
    "    \n",
    "    '''\n",
    "    Option 3: Print all pet information for every pet in the system\n",
    "    '''\n",
    "            \n",
    "    mammal_df = pd.DataFrame()\n",
    "    fish_df = pd.DataFrame()\n",
    "    amphibian_df = pd.DataFrame()\n",
    "\n",
    "    for idx, obj in enumerate(pet_list):\n",
    "        \n",
    "        temp = obj.__dict__.copy()\n",
    "        temp.update(temp['owner'].__dict__)\n",
    "        temp.pop('owner')\n",
    "        \n",
    "        if obj.__class__.__name__ == 'Mammal':\n",
    "            tempm_df = pd.DataFrame(temp, index = [idx])\n",
    "            mammal_df = pd.concat([mammal_df, tempm_df], axis = 0)\n",
    "            \n",
    "        elif obj.__class__.__name__ == 'Fish':\n",
    "            tempaf_df = pd.DataFrame(temp, index = [idx])\n",
    "            fish_df = pd.concat([fish_df, tempaf_df], axis = 0)\n",
    "            \n",
    "        else:\n",
    "            tempa_df = pd.DataFrame(temp, index = [idx])\n",
    "            amphibian_df = pd.concat([amphibian_df, tempa_df], axis = 0)\n",
    "            \n",
    "    print(\"===\" * 38)\n",
    "    print(\"Data of all Mammals in the database\")\n",
    "    print(\"===\" * 38)\n",
    "    print(mammal_df.to_markdown(index = False))\n",
    "    print()\n",
    "    print(\"===\" * 39)\n",
    "    print(\"Data of all Fish in the database\")\n",
    "    print(\"===\" * 39)\n",
    "    print(fish_df.to_markdown(index = False))\n",
    "    print()\n",
    "    print(\"===\" * 40 + \"=\")\n",
    "    print(\"Data of all Amphibians in the database\")\n",
    "    print(\"===\" * 40 + \"=\")\n",
    "    print(amphibian_df.to_markdown(index = False))"
   ]
  },
  {
   "cell_type": "code",
   "execution_count": 15,
   "id": "a4b38760-0034-41ae-9b5b-cbe18e31ddb0",
   "metadata": {
    "tags": []
   },
   "outputs": [],
   "source": [
    "def option_four(pet_list):\n",
    "    \n",
    "    '''\n",
    "    Option 4: Print owner information and pet names for all owners with more than one pet\n",
    "    '''\n",
    "    \n",
    "    track = defaultdict(list)\n",
    "    for idx, obj in enumerate(pet_list):\n",
    "        track[obj.owner.owner_name + obj.owner.owner_address].append(idx)\n",
    "        \n",
    "    for uniq in track:\n",
    "        if len(track[uniq]) > 1:\n",
    "            print(f\"{pet_list[track[uniq][0]].owner.owner_name} lives in {pet_list[track[uniq][0]].owner.owner_address} and has {len(track[uniq])} pets.\")\n",
    "            print(\"The pet names are:\")\n",
    "            for j in track[uniq]:\n",
    "                print(\"\\t\" + pet_list[j].pet_name)"
   ]
  },
  {
   "cell_type": "code",
   "execution_count": 16,
   "id": "4229bc77-0ca3-48bc-bb83-4397a9bc432a",
   "metadata": {
    "tags": []
   },
   "outputs": [],
   "source": [
    "def option_five(pet_list, cursor):\n",
    "    print(\"Saving objects to .dat file\")\n",
    "    save = open(\"pet_trial.dat\", \"ab\")\n",
    "    for obj in pet_list[cursor:]:\n",
    "        pickle.dump(obj, save)\n",
    "    save.close()\n",
    "    print(\"Exiting the application...\")\n",
    "    return "
   ]
  },
  {
   "cell_type": "markdown",
   "id": "0fd78323-e0be-48f7-9af0-6e4be7eabb48",
   "metadata": {},
   "source": [
    "## Defining all inputs:"
   ]
  },
  {
   "cell_type": "code",
   "execution_count": 17,
   "id": "37d78a07-38fd-4468-80ac-aedd2fdf6c0f",
   "metadata": {
    "tags": []
   },
   "outputs": [],
   "source": [
    "def owner_input():\n",
    "    owner_name = input(\"Enter owner name: \")\n",
    "    owner_address = input(\"Enter owner address: \")\n",
    "    \n",
    "    return (owner_name, owner_address)"
   ]
  },
  {
   "cell_type": "code",
   "execution_count": 18,
   "id": "db23c45d-3ccc-4467-a843-33c7aedf19d0",
   "metadata": {
    "tags": []
   },
   "outputs": [],
   "source": [
    "def pet_input():\n",
    "    \n",
    "    pet_name = input(\"Enter the name of the pet: \")\n",
    "    \n",
    "    run = True\n",
    "    while run:\n",
    "        try:\n",
    "            date_of_birth = input(\"Enter the birth date of the pet in DD-MM-YY format: \")\n",
    "            date_of_birth = datetime.strptime(date_of_birth, \"%d-%m-%y\")\n",
    "        except ValueError:\n",
    "            print(\"ValueError: Please enter a valid date format\")\n",
    "        else:\n",
    "            run = False\n",
    "    \n",
    "    run = True\n",
    "    while run:\n",
    "        try:\n",
    "            birth_weight = float(input(\"Enter the weight of the pet at birth (in ounces): \"))\n",
    "            if birth_weight < 0:\n",
    "                raise ValueError\n",
    "        except ValueError:\n",
    "            print(\"ValueError: Enter a valid weight: \")\n",
    "        else:\n",
    "            run = False\n",
    "            \n",
    "    return (pet_name, date_of_birth, birth_weight)"
   ]
  },
  {
   "cell_type": "code",
   "execution_count": 19,
   "id": "7ca3d1e8-03bb-4300-b095-93080433b08e",
   "metadata": {
    "tags": []
   },
   "outputs": [],
   "source": [
    "def mammal_input():\n",
    "    \n",
    "    run = True\n",
    "    while run:\n",
    "        try:\n",
    "            litter_size = int(input(\"Enter the litter size of the mammal: \"))\n",
    "            if litter_size < 0:\n",
    "                raise ValueError\n",
    "        except ValueError:\n",
    "            print(\"ValueError: Enter a positive value for litter size\")\n",
    "        else:\n",
    "            run = False\n",
    "    \n",
    "    run = True\n",
    "    while run:\n",
    "        try:\n",
    "            has_claw = input(\"Does the mammal have claws? (y/n) \")\n",
    "            if has_claw.lower() not in ('y','n'):\n",
    "                raise ValueError\n",
    "        except ValueError:\n",
    "            print(\"ValueError: Please enter y or n\")\n",
    "        else:\n",
    "            run = False\n",
    "    \n",
    "    return (litter_size, has_claw)"
   ]
  },
  {
   "cell_type": "code",
   "execution_count": 20,
   "id": "dd187f43-9073-421e-b126-fc879c49b739",
   "metadata": {
    "tags": []
   },
   "outputs": [],
   "source": [
    "def fish_input():\n",
    "\n",
    "    run = True\n",
    "    while run:\n",
    "        try:\n",
    "            scale_condition = input(\"Does the fish have scales? (s/r) \")\n",
    "            if scale_condition.lower() not in ('s','r'):\n",
    "                raise ValueError\n",
    "        except ValueError:\n",
    "            print(\"ValueError: Please enter s or r\")\n",
    "        else:\n",
    "            run = False\n",
    "            \n",
    "    run = True\n",
    "    while run:\n",
    "        try:\n",
    "            length = int(input(\"Enter the length of the fish: \"))\n",
    "            if length < 0:\n",
    "                raise ValueError\n",
    "        except ValueError:\n",
    "            print(\"ValueError: Enter a positive value for fish length\")\n",
    "        else:\n",
    "            run = False\n",
    "    \n",
    "    return (scale_condition, length)"
   ]
  },
  {
   "cell_type": "code",
   "execution_count": 21,
   "id": "fd639f3f-6f46-4575-931b-2a9a3cd99a78",
   "metadata": {
    "tags": []
   },
   "outputs": [],
   "source": [
    "def amphibian_input():\n",
    "    \n",
    "    run = True\n",
    "    while run:\n",
    "        try:\n",
    "            number_of_limbs = int(input(\"Enter the number of libs in the amphibian: \"))\n",
    "            if number_of_limbs < 0:\n",
    "                raise ValueError\n",
    "        except ValueError:\n",
    "            print(\"ValueError: Enter a positive value for number of limbs\")\n",
    "        else:\n",
    "            run = False\n",
    "            \n",
    "    run = True\n",
    "    while run:\n",
    "        try:\n",
    "            is_venomous = input(\"Is the amphibian venomous? (y/n) \")\n",
    "            if is_venomous.lower() not in ('y','n'):\n",
    "                raise ValueError\n",
    "        except ValueError:\n",
    "            print(\"ValueError: Please enter y or n\")\n",
    "        else:\n",
    "            run = False\n",
    "            \n",
    "    return (number_of_limbs, is_venomous)"
   ]
  },
  {
   "cell_type": "code",
   "execution_count": 22,
   "id": "70db73bc-b384-4a3d-bf8e-d6318fb0c05a",
   "metadata": {
    "tags": []
   },
   "outputs": [],
   "source": [
    "def read_from_file():\n",
    "    \n",
    "    saved_object = []\n",
    "    \n",
    "    try:\n",
    "        objects = open(\"pet_trial.dat\", \"rb\")\n",
    "    except FileNotFoundError:\n",
    "        print(\"Object file (.dat) not found!\")\n",
    "        return saved_object\n",
    "    else:\n",
    "        \n",
    "        try:\n",
    "            while True:\n",
    "                saved_object.append(pickle.load(objects))\n",
    "        except EOFError:\n",
    "            objects.close()\n",
    "            return saved_object"
   ]
  },
  {
   "cell_type": "code",
   "execution_count": 23,
   "id": "071ff95e-e995-44b0-a6cc-c87662dfce17",
   "metadata": {
    "tags": []
   },
   "outputs": [],
   "source": [
    "# def get_df(pet_list):\n",
    "    \n",
    "#     try:\n",
    "#         idx = 0\n",
    "#         out_df = pd.DataFrame()\n",
    "#         while True:\n",
    "#             temp = pet_list[idx].__dict__.copy()\n",
    "#             temp.update(temp['owner'].__dict__)\n",
    "#             temp.pop('owner')\n",
    "#             temp = pd.DataFrame(temp, index = [idx])\n",
    "#             out_df = pd.concat([out_df, temp], axis = 0)\n",
    "#             idx += 1\n",
    "            \n",
    "#     except IndexError:\n",
    "#         return out_df"
   ]
  },
  {
   "cell_type": "markdown",
   "id": "7bc538be-fb2b-4293-88f7-dbea7c727e1f",
   "metadata": {},
   "source": [
    "## Adding a pet to the database"
   ]
  },
  {
   "cell_type": "code",
   "execution_count": 41,
   "id": "3757af1d-80c1-405c-9e7f-9b6ee7086edb",
   "metadata": {},
   "outputs": [
    {
     "name": "stdout",
     "output_type": "stream",
     "text": [
      "---------------------------------\n",
      "Select an option between 1 and 5: \n",
      "1. Add a new pet\n",
      "2. Print current weight of all pets in the system\n",
      "3. Print all pet information for all pets in the system\n",
      "4. Information of all owners with more than one pet\n",
      "5. Exit the application\n"
     ]
    },
    {
     "name": "stdin",
     "output_type": "stream",
     "text": [
      "Enter your option:  1\n"
     ]
    },
    {
     "name": "stdout",
     "output_type": "stream",
     "text": [
      "Option selected: 1\n",
      "-------------\n",
      "Type of pet: \n",
      "1. Mammals\n",
      "2. Fish\n",
      "3. Amphibians\n"
     ]
    },
    {
     "name": "stdin",
     "output_type": "stream",
     "text": [
      "Enter value between 1 & 3 1\n",
      "Enter the name of the pet:  Yogi\n",
      "Enter the birth date of the pet in DD-MM-YY format:  05-02-23\n",
      "Enter the weight of the pet at birth (in ounces):  52\n",
      "Enter owner name:  Eric\n",
      "Enter owner address:  890 Main\n",
      "Enter the litter size of the mammal:  5\n",
      "Does the mammal have claws? (y/n)  n\n"
     ]
    },
    {
     "name": "stdout",
     "output_type": "stream",
     "text": [
      "---------------------------------\n",
      "Select an option between 1 and 5: \n",
      "1. Add a new pet\n",
      "2. Print current weight of all pets in the system\n",
      "3. Print all pet information for all pets in the system\n",
      "4. Information of all owners with more than one pet\n",
      "5. Exit the application\n"
     ]
    },
    {
     "name": "stdin",
     "output_type": "stream",
     "text": [
      "Enter your option:  5\n"
     ]
    },
    {
     "name": "stdout",
     "output_type": "stream",
     "text": [
      "Option selected: 5\n",
      "Saving objects to .dat file\n",
      "Exiting the application...\n"
     ]
    }
   ],
   "source": [
    "menu_options()"
   ]
  },
  {
   "cell_type": "markdown",
   "id": "4f1ed001-034d-4700-b4eb-93979f8c426d",
   "metadata": {},
   "source": [
    "## Current weight of all pets in database"
   ]
  },
  {
   "cell_type": "code",
   "execution_count": 42,
   "id": "8b4cc0c4-664b-4d2c-86b8-50d3f577a351",
   "metadata": {
    "tags": []
   },
   "outputs": [
    {
     "name": "stdout",
     "output_type": "stream",
     "text": [
      "---------------------------------\n",
      "Select an option between 1 and 5: \n",
      "1. Add a new pet\n",
      "2. Print current weight of all pets in the system\n",
      "3. Print all pet information for all pets in the system\n",
      "4. Information of all owners with more than one pet\n",
      "5. Exit the application\n"
     ]
    },
    {
     "name": "stdin",
     "output_type": "stream",
     "text": [
      "Enter your option:  2\n"
     ]
    },
    {
     "name": "stdout",
     "output_type": "stream",
     "text": [
      "Option selected: 2\n",
      "Kaazi's current weight in pounds is 3.19\n",
      "Hiss's current weight in pounds is 5.09\n",
      "Goldie's current weight in pounds is 1.65\n",
      "Yogi's current weight in pounds is 4.55\n",
      "---------------------------------\n",
      "Select an option between 1 and 5: \n",
      "1. Add a new pet\n",
      "2. Print current weight of all pets in the system\n",
      "3. Print all pet information for all pets in the system\n",
      "4. Information of all owners with more than one pet\n",
      "5. Exit the application\n"
     ]
    },
    {
     "name": "stdin",
     "output_type": "stream",
     "text": [
      "Enter your option:  5\n"
     ]
    },
    {
     "name": "stdout",
     "output_type": "stream",
     "text": [
      "Option selected: 5\n",
      "Saving objects to .dat file\n",
      "Exiting the application...\n"
     ]
    }
   ],
   "source": [
    "menu_options()"
   ]
  },
  {
   "cell_type": "markdown",
   "id": "1a54609c-65d7-410b-bdbb-82b2f309ee3c",
   "metadata": {},
   "source": [
    "## Printing all the pets in the databse"
   ]
  },
  {
   "cell_type": "code",
   "execution_count": 43,
   "id": "6a3247f2-2d13-4598-a35a-0d9acf67c868",
   "metadata": {
    "tags": []
   },
   "outputs": [
    {
     "name": "stdout",
     "output_type": "stream",
     "text": [
      "---------------------------------\n",
      "Select an option between 1 and 5: \n",
      "1. Add a new pet\n",
      "2. Print current weight of all pets in the system\n",
      "3. Print all pet information for all pets in the system\n",
      "4. Information of all owners with more than one pet\n",
      "5. Exit the application\n"
     ]
    },
    {
     "name": "stdin",
     "output_type": "stream",
     "text": [
      "Enter your option:  3\n"
     ]
    },
    {
     "name": "stdout",
     "output_type": "stream",
     "text": [
      "Option selected: 3\n",
      "==================================================================================================================\n",
      "Data of all Mammals in the database\n",
      "==================================================================================================================\n",
      "| pet_name   | date_of_birth       |   birth_weight |   litter_size | has_claw   | owner_name   | owner_address   |\n",
      "|:-----------|:--------------------|---------------:|--------------:|:-----------|:-------------|:----------------|\n",
      "| Kaazi      | 2022-12-20 00:00:00 |          2.125 |             3 | y          | Amy          | 123 Main        |\n",
      "| Yogi       | 2023-02-05 00:00:00 |          3.25  |             5 | n          | Eric         | 890 Main        |\n",
      "\n",
      "=====================================================================================================================\n",
      "Data of all Fish in the database\n",
      "=====================================================================================================================\n",
      "| pet_name   | date_of_birth       |   birth_weight | scale_condition   |   length | owner_name   | owner_address   |\n",
      "|:-----------|:--------------------|---------------:|:------------------|---------:|:-------------|:----------------|\n",
      "| Goldie     | 2021-10-31 00:00:00 |         1.4375 | r                 |       15 | Brett        | 345 Main        |\n",
      "\n",
      "=========================================================================================================================\n",
      "Data of all Amphibians in the database\n",
      "=========================================================================================================================\n",
      "| pet_name   | date_of_birth       |   birth_weight |   number_of_limbs | is_venomous   | owner_name   | owner_address   |\n",
      "|:-----------|:--------------------|---------------:|------------------:|:--------------|:-------------|:----------------|\n",
      "| Hiss       | 2021-05-08 00:00:00 |         4.3125 |                 2 | y             | Amy          | 123 Main        |\n",
      "---------------------------------\n",
      "Select an option between 1 and 5: \n",
      "1. Add a new pet\n",
      "2. Print current weight of all pets in the system\n",
      "3. Print all pet information for all pets in the system\n",
      "4. Information of all owners with more than one pet\n",
      "5. Exit the application\n"
     ]
    },
    {
     "name": "stdin",
     "output_type": "stream",
     "text": [
      "Enter your option:  5\n"
     ]
    },
    {
     "name": "stdout",
     "output_type": "stream",
     "text": [
      "Option selected: 5\n",
      "Saving objects to .dat file\n",
      "Exiting the application...\n"
     ]
    }
   ],
   "source": [
    "menu_options()"
   ]
  },
  {
   "cell_type": "markdown",
   "id": "e073ef35-5bf1-4513-b1b3-f1c937556eef",
   "metadata": {},
   "source": [
    "## Displaying owners with more than one pet"
   ]
  },
  {
   "cell_type": "code",
   "execution_count": 48,
   "id": "3eef55d0-d1f1-4abc-b5e6-1d534c39ff29",
   "metadata": {
    "tags": []
   },
   "outputs": [
    {
     "name": "stdout",
     "output_type": "stream",
     "text": [
      "---------------------------------\n",
      "Select an option between 1 and 5: \n",
      "1. Add a new pet\n",
      "2. Print current weight of all pets in the system\n",
      "3. Print all pet information for all pets in the system\n",
      "4. Information of all owners with more than one pet\n",
      "5. Exit the application\n"
     ]
    },
    {
     "name": "stdin",
     "output_type": "stream",
     "text": [
      "Enter your option:  4\n"
     ]
    },
    {
     "name": "stdout",
     "output_type": "stream",
     "text": [
      "Option selected: 4\n",
      "Amy lives in 123 Main and has 2 pets.\n",
      "The pet names are:\n",
      "\tKaazi\n",
      "\tHiss\n",
      "---------------------------------\n",
      "Select an option between 1 and 5: \n",
      "1. Add a new pet\n",
      "2. Print current weight of all pets in the system\n",
      "3. Print all pet information for all pets in the system\n",
      "4. Information of all owners with more than one pet\n",
      "5. Exit the application\n"
     ]
    },
    {
     "name": "stdin",
     "output_type": "stream",
     "text": [
      "Enter your option:  5\n"
     ]
    },
    {
     "name": "stdout",
     "output_type": "stream",
     "text": [
      "Option selected: 5\n",
      "Saving objects to .dat file\n",
      "Exiting the application...\n"
     ]
    }
   ],
   "source": [
    "menu_options()"
   ]
  },
  {
   "cell_type": "markdown",
   "id": "89b280de-8f59-4036-99ab-5e5893da473c",
   "metadata": {},
   "source": [
    "## Exiting the application"
   ]
  },
  {
   "cell_type": "code",
   "execution_count": 49,
   "id": "a3b9fbda-6001-4581-bf9e-842676eb68cf",
   "metadata": {
    "tags": []
   },
   "outputs": [
    {
     "name": "stdout",
     "output_type": "stream",
     "text": [
      "---------------------------------\n",
      "Select an option between 1 and 5: \n",
      "1. Add a new pet\n",
      "2. Print current weight of all pets in the system\n",
      "3. Print all pet information for all pets in the system\n",
      "4. Information of all owners with more than one pet\n",
      "5. Exit the application\n"
     ]
    },
    {
     "name": "stdin",
     "output_type": "stream",
     "text": [
      "Enter your option:  5\n"
     ]
    },
    {
     "name": "stdout",
     "output_type": "stream",
     "text": [
      "Option selected: 5\n",
      "Saving objects to .dat file\n",
      "Exiting the application...\n"
     ]
    }
   ],
   "source": [
    "menu_options()"
   ]
  }
 ],
 "metadata": {
  "kernelspec": {
   "display_name": "Python 3 (ipykernel)",
   "language": "python",
   "name": "python3"
  },
  "language_info": {
   "codemirror_mode": {
    "name": "ipython",
    "version": 3
   },
   "file_extension": ".py",
   "mimetype": "text/x-python",
   "name": "python",
   "nbconvert_exporter": "python",
   "pygments_lexer": "ipython3",
   "version": "3.10.10"
  }
 },
 "nbformat": 4,
 "nbformat_minor": 5
}
